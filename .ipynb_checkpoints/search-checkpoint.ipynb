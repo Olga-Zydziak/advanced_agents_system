{
 "cells": [
  {
   "cell_type": "code",
   "execution_count": 6,
   "id": "bba77220-9530-444e-96af-09f0f82d6e96",
   "metadata": {
    "tags": []
   },
   "outputs": [
    {
     "ename": "ValueError",
     "evalue": "Project and location or API key must be set when using the Vertex AI API.",
     "output_type": "error",
     "traceback": [
      "\u001b[31m---------------------------------------------------------------------------\u001b[39m",
      "\u001b[31mValueError\u001b[39m                                Traceback (most recent call last)",
      "\u001b[36mCell\u001b[39m\u001b[36m \u001b[39m\u001b[32mIn[6]\u001b[39m\u001b[32m, line 17\u001b[39m\n\u001b[32m     15\u001b[39m \u001b[38;5;66;03m# Inicjalizacja klienta Vertex AI\u001b[39;00m\n\u001b[32m     16\u001b[39m vertexai.init(project=PROJECT_ID, location=LOCATION)\n\u001b[32m---> \u001b[39m\u001b[32m17\u001b[39m client = \u001b[43mvertexai\u001b[49m\u001b[43m.\u001b[49m\u001b[43mClient\u001b[49m\u001b[43m(\u001b[49m\u001b[43m)\u001b[49m\n\u001b[32m     19\u001b[39m \u001b[38;5;66;03m# --- Przykładowe zapytania do Twojej pamięci ---\u001b[39;00m\n\u001b[32m     20\u001b[39m \n\u001b[32m     21\u001b[39m \u001b[38;5;66;03m# 1. Ogólne zapytanie: Znajdź wszystko, co dotyczy \"causal analysis\"\u001b[39;00m\n\u001b[32m     22\u001b[39m \u001b[38;5;66;03m# To przeszuka wszystkie widoki i misje.\u001b[39;00m\n\u001b[32m     23\u001b[39m general_results = query_mission_memory(\n\u001b[32m     24\u001b[39m     client=client,\n\u001b[32m     25\u001b[39m     engine_name=ENGINE_NAME,\n\u001b[32m     26\u001b[39m     query_text=\u001b[33m\"\u001b[39m\u001b[33mcausal analysis\u001b[39m\u001b[33m\"\u001b[39m\n\u001b[32m     27\u001b[39m )\n",
      "\u001b[36mFile \u001b[39m\u001b[32m/opt/conda/envs/agents_with_memory_py11/lib/python3.11/site-packages/vertexai/_genai/client.py:132\u001b[39m, in \u001b[36mClient.__init__\u001b[39m\u001b[34m(self, credentials, project, location, debug_config, http_options)\u001b[39m\n\u001b[32m    129\u001b[39m \u001b[38;5;28;01mif\u001b[39;00m \u001b[38;5;28misinstance\u001b[39m(http_options, \u001b[38;5;28mdict\u001b[39m):\n\u001b[32m    130\u001b[39m     http_options = types.HttpOptions(**http_options)\n\u001b[32m--> \u001b[39m\u001b[32m132\u001b[39m \u001b[38;5;28mself\u001b[39m._api_client = \u001b[43mgenai_client\u001b[49m\u001b[43m.\u001b[49m\u001b[43mClient\u001b[49m\u001b[43m.\u001b[49m\u001b[43m_get_api_client\u001b[49m\u001b[43m(\u001b[49m\n\u001b[32m    133\u001b[39m \u001b[43m    \u001b[49m\u001b[43mvertexai\u001b[49m\u001b[43m=\u001b[49m\u001b[38;5;28;43;01mTrue\u001b[39;49;00m\u001b[43m,\u001b[49m\n\u001b[32m    134\u001b[39m \u001b[43m    \u001b[49m\u001b[43mcredentials\u001b[49m\u001b[43m=\u001b[49m\u001b[43mcredentials\u001b[49m\u001b[43m,\u001b[49m\n\u001b[32m    135\u001b[39m \u001b[43m    \u001b[49m\u001b[43mproject\u001b[49m\u001b[43m=\u001b[49m\u001b[43mproject\u001b[49m\u001b[43m,\u001b[49m\n\u001b[32m    136\u001b[39m \u001b[43m    \u001b[49m\u001b[43mlocation\u001b[49m\u001b[43m=\u001b[49m\u001b[43mlocation\u001b[49m\u001b[43m,\u001b[49m\n\u001b[32m    137\u001b[39m \u001b[43m    \u001b[49m\u001b[43mdebug_config\u001b[49m\u001b[43m=\u001b[49m\u001b[38;5;28;43mself\u001b[39;49m\u001b[43m.\u001b[49m\u001b[43m_debug_config\u001b[49m\u001b[43m,\u001b[49m\n\u001b[32m    138\u001b[39m \u001b[43m    \u001b[49m\u001b[43mhttp_options\u001b[49m\u001b[43m=\u001b[49m\u001b[43mhttp_options\u001b[49m\u001b[43m,\u001b[49m\n\u001b[32m    139\u001b[39m \u001b[43m\u001b[49m\u001b[43m)\u001b[49m\n\u001b[32m    140\u001b[39m \u001b[38;5;28mself\u001b[39m._aio = AsyncClient(\u001b[38;5;28mself\u001b[39m._api_client)\n\u001b[32m    141\u001b[39m \u001b[38;5;28mself\u001b[39m._evals = \u001b[38;5;28;01mNone\u001b[39;00m\n",
      "\u001b[36mFile \u001b[39m\u001b[32m/opt/conda/envs/agents_with_memory_py11/lib/python3.11/site-packages/google/genai/client.py:265\u001b[39m, in \u001b[36mClient._get_api_client\u001b[39m\u001b[34m(vertexai, api_key, credentials, project, location, debug_config, http_options)\u001b[39m\n\u001b[32m    248\u001b[39m \u001b[38;5;28;01mif\u001b[39;00m debug_config \u001b[38;5;129;01mand\u001b[39;00m debug_config.client_mode \u001b[38;5;129;01min\u001b[39;00m [\n\u001b[32m    249\u001b[39m     \u001b[33m'\u001b[39m\u001b[33mrecord\u001b[39m\u001b[33m'\u001b[39m,\n\u001b[32m    250\u001b[39m     \u001b[33m'\u001b[39m\u001b[33mreplay\u001b[39m\u001b[33m'\u001b[39m,\n\u001b[32m    251\u001b[39m     \u001b[33m'\u001b[39m\u001b[33mauto\u001b[39m\u001b[33m'\u001b[39m,\n\u001b[32m    252\u001b[39m ]:\n\u001b[32m    253\u001b[39m   \u001b[38;5;28;01mreturn\u001b[39;00m ReplayApiClient(\n\u001b[32m    254\u001b[39m       mode=debug_config.client_mode,  \u001b[38;5;66;03m# type: ignore[arg-type]\u001b[39;00m\n\u001b[32m    255\u001b[39m       replay_id=debug_config.replay_id,  \u001b[38;5;66;03m# type: ignore[arg-type]\u001b[39;00m\n\u001b[32m   (...)\u001b[39m\u001b[32m    262\u001b[39m       http_options=http_options,\n\u001b[32m    263\u001b[39m   )\n\u001b[32m--> \u001b[39m\u001b[32m265\u001b[39m \u001b[38;5;28;01mreturn\u001b[39;00m \u001b[43mBaseApiClient\u001b[49m\u001b[43m(\u001b[49m\n\u001b[32m    266\u001b[39m \u001b[43m    \u001b[49m\u001b[43mvertexai\u001b[49m\u001b[43m=\u001b[49m\u001b[43mvertexai\u001b[49m\u001b[43m,\u001b[49m\n\u001b[32m    267\u001b[39m \u001b[43m    \u001b[49m\u001b[43mapi_key\u001b[49m\u001b[43m=\u001b[49m\u001b[43mapi_key\u001b[49m\u001b[43m,\u001b[49m\n\u001b[32m    268\u001b[39m \u001b[43m    \u001b[49m\u001b[43mcredentials\u001b[49m\u001b[43m=\u001b[49m\u001b[43mcredentials\u001b[49m\u001b[43m,\u001b[49m\n\u001b[32m    269\u001b[39m \u001b[43m    \u001b[49m\u001b[43mproject\u001b[49m\u001b[43m=\u001b[49m\u001b[43mproject\u001b[49m\u001b[43m,\u001b[49m\n\u001b[32m    270\u001b[39m \u001b[43m    \u001b[49m\u001b[43mlocation\u001b[49m\u001b[43m=\u001b[49m\u001b[43mlocation\u001b[49m\u001b[43m,\u001b[49m\n\u001b[32m    271\u001b[39m \u001b[43m    \u001b[49m\u001b[43mhttp_options\u001b[49m\u001b[43m=\u001b[49m\u001b[43mhttp_options\u001b[49m\u001b[43m,\u001b[49m\n\u001b[32m    272\u001b[39m \u001b[43m\u001b[49m\u001b[43m)\u001b[49m\n",
      "\u001b[36mFile \u001b[39m\u001b[32m/opt/conda/envs/agents_with_memory_py11/lib/python3.11/site-packages/google/genai/_api_client.py:541\u001b[39m, in \u001b[36mBaseApiClient.__init__\u001b[39m\u001b[34m(self, vertexai, api_key, credentials, project, location, http_options)\u001b[39m\n\u001b[32m    539\u001b[39m     \u001b[38;5;28mself\u001b[39m._credentials = credentials\n\u001b[32m    540\u001b[39m \u001b[38;5;28;01mif\u001b[39;00m \u001b[38;5;129;01mnot\u001b[39;00m ((\u001b[38;5;28mself\u001b[39m.project \u001b[38;5;129;01mand\u001b[39;00m \u001b[38;5;28mself\u001b[39m.location) \u001b[38;5;129;01mor\u001b[39;00m \u001b[38;5;28mself\u001b[39m.api_key):\n\u001b[32m--> \u001b[39m\u001b[32m541\u001b[39m   \u001b[38;5;28;01mraise\u001b[39;00m \u001b[38;5;167;01mValueError\u001b[39;00m(\n\u001b[32m    542\u001b[39m       \u001b[33m'\u001b[39m\u001b[33mProject and location or API key must be set when using the Vertex \u001b[39m\u001b[33m'\u001b[39m\n\u001b[32m    543\u001b[39m       \u001b[33m'\u001b[39m\u001b[33mAI API.\u001b[39m\u001b[33m'\u001b[39m\n\u001b[32m    544\u001b[39m   )\n\u001b[32m    545\u001b[39m \u001b[38;5;28;01mif\u001b[39;00m \u001b[38;5;28mself\u001b[39m.api_key \u001b[38;5;129;01mor\u001b[39;00m \u001b[38;5;28mself\u001b[39m.location == \u001b[33m'\u001b[39m\u001b[33mglobal\u001b[39m\u001b[33m'\u001b[39m:\n\u001b[32m    546\u001b[39m   \u001b[38;5;28mself\u001b[39m._http_options.base_url = \u001b[33mf\u001b[39m\u001b[33m'\u001b[39m\u001b[33mhttps://aiplatform.googleapis.com/\u001b[39m\u001b[33m'\u001b[39m\n",
      "\u001b[31mValueError\u001b[39m: Project and location or API key must be set when using the Vertex AI API."
     ]
    }
   ],
   "source": [
    "import os\n",
    "import json\n",
    "import vertexai\n",
    "from vertexai import agent_engines\n",
    "from read_mission_memory import *\n",
    "\n",
    "PROJECT_ID = \"dark-data-discovery\"  # Wpisz ID swojego projektu\n",
    "LOCATION = \"us-central1\"                    # Wpisz region, np. \"us-central1\"\n",
    "\n",
    "\n",
    "ENGINE_NAME = \"projects/815755318672/locations/us-central1/reasoningEngines/6370486808450433024\" \n",
    "\n",
    "\n",
    "\n",
    "from vertexai import Client  # przygotuj klienta wcześniej\n",
    "client = Client(project=\"dark-data-discovery\", location=\"us-central1\")\n",
    "\n",
    "# --- Przykładowe zapytania do Twojej pamięci ---\n",
    "\n",
    "# 1. Ogólne zapytanie: Znajdź wszystko, co dotyczy \"causal analysis\"\n",
    "# To przeszuka wszystkie widoki i misje.\n",
    "general_results = query_mission_memory(\n",
    "    client=client,\n",
    "    engine_name=ENGINE_NAME,\n",
    "    query_text=\"causal analysis\"\n",
    ")\n",
    "# if general_results:\n",
    "#     print(\"\\n--- Wyniki zapytania ogólnego ---\")\n",
    "#     print(json.dumps(general_results, indent=2, ensure_ascii=False))\n",
    "\n",
    "# # 2. Zapytanie o konkretny \"widok\": Znajdź tylko podsumowania misji (overview)\n",
    "# # Używamy scope, aby filtrować wyniki.\n",
    "# overview_results = query_mission_memory(\n",
    "#     client=client,\n",
    "#     engine_name=ENGINE_NAME,\n",
    "#     query_text=\"odporność na błędy\", # Zapytanie semantyczne\n",
    "#     scope={\"view\": \"overview\"}      # Filtrowanie po widoku\n",
    "# )\n",
    "# if overview_results:\n",
    "#     print(\"\\n--- Wyniki zapytania o 'overview' ---\")\n",
    "#     print(json.dumps(overview_results, indent=2, ensure_ascii=False))\n",
    "\n",
    "# # 3. Zapytanie o konkretną misję: Znajdź wszystko dla mission_id z pliku JSON\n",
    "# mission_id_to_find = \"mission_20250825_132101_a5cf18ab\"\n",
    "# mission_results = query_mission_memory(\n",
    "#     client=client,\n",
    "#     engine_name=ENGINE_NAME,\n",
    "#     query_text=\"dowolne zapytanie\", # Zapytanie jest wciąż wymagane przez API\n",
    "#     scope={\"mission_id\": mission_id_to_find}\n",
    "# )\n",
    "# if mission_results:\n",
    "#     print(f\"\\n--- Wszystkie wspomnienia dla misji: {mission_id_to_find} ---\")\n",
    "#     print(json.dumps(mission_results, indent=2, ensure_ascii=False))"
   ]
  },
  {
   "cell_type": "code",
   "execution_count": null,
   "id": "afb34740-2113-4769-a735-b099fd52de76",
   "metadata": {},
   "outputs": [],
   "source": []
  }
 ],
 "metadata": {
  "environment": {
   "kernel": "agents_with_memory_p11",
   "name": "workbench-notebooks.m129",
   "type": "gcloud",
   "uri": "us-docker.pkg.dev/deeplearning-platform-release/gcr.io/workbench-notebooks:m129"
  },
  "kernelspec": {
   "display_name": "Agents with memory (Python 3.11)",
   "language": "python",
   "name": "agents_with_memory_p11"
  },
  "language_info": {
   "codemirror_mode": {
    "name": "ipython",
    "version": 3
   },
   "file_extension": ".py",
   "mimetype": "text/x-python",
   "name": "python",
   "nbconvert_exporter": "python",
   "pygments_lexer": "ipython3",
   "version": "3.11.13"
  }
 },
 "nbformat": 4,
 "nbformat_minor": 5
}
