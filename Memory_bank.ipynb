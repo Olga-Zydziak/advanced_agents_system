{
 "cells": [
  {
   "cell_type": "code",
   "execution_count": 1,
   "id": "a9c08fe1-8b3a-4469-9a3c-775789bd5b56",
   "metadata": {
    "tags": []
   },
   "outputs": [],
   "source": [
    "import json\n",
    "import hashlib\n",
    "from datetime import datetime\n",
    "from typing import Any, Dict, Optional, Callable\n",
    "from vertexai import agent_engines as _agent_engines"
   ]
  },
  {
   "cell_type": "code",
   "execution_count": 2,
   "id": "486582ec-e886-4f5e-b9db-0c67b8429959",
   "metadata": {
    "tags": []
   },
   "outputs": [],
   "source": [
    "def get_or_create_agent_engine(display_name: str) :\n",
    "    \"\"\"\n",
    "    Pobiera istniejący Agent Engine po nazwie wyświetlanej lub tworzy nowy, jeśli nie istnieje.\n",
    "    \"\"\"\n",
    "    # 1. Pobierz listę wszystkich istniejących silników w projekcie\n",
    "    all_engines = _agent_engines.list()\n",
    "    \n",
    "    # 2. Sprawdź, czy któryś z nich ma pasującą nazwę\n",
    "    for engine in all_engines:\n",
    "        if engine.display_name == display_name:\n",
    "            print(f\"INFO: Znaleziono i połączono z istniejącym Agent Engine: '{display_name}'\")\n",
    "            return engine\n",
    "            \n",
    "    # 3. Jeśli pętla się zakończyła i nic nie znaleziono, stwórz nowy silnik\n",
    "    print(f\"INFO: Nie znaleziono Agent Engine o nazwie '{display_name}'. Tworzenie nowego...\")\n",
    "    try:\n",
    "        new_engine = agent_engines.create(\n",
    "            display_name=display_name\n",
    "        )\n",
    "        print(f\"INFO: Pomyślnie utworzono nowy Agent Engine.\")\n",
    "        return new_engine\n",
    "    except Exception as e:\n",
    "        print(f\"KRYTYCZNY BŁĄD: Nie można utworzyć Agent Engine. Sprawdź konfigurację i uprawnienia. Błąd: {e}\")\n",
    "        exit()"
   ]
  },
  {
   "cell_type": "code",
   "execution_count": 3,
   "id": "4f76690e-adcd-4b39-8393-c20de05339d2",
   "metadata": {
    "tags": []
   },
   "outputs": [],
   "source": [
    "MEMORY_ENGINE_DISPLAY_NAME=\"test_for_moa_debate\""
   ]
  },
  {
   "cell_type": "code",
   "execution_count": 4,
   "id": "47aa662a-91d6-456e-9160-3f7b7a6f83f9",
   "metadata": {
    "tags": []
   },
   "outputs": [
    {
     "name": "stdout",
     "output_type": "stream",
     "text": [
      "INFO: Znaleziono i połączono z istniejącym Agent Engine: 'test_for_moa_debate'\n",
      "projects/815755318672/locations/us-central1/reasoningEngines/6370486808450433024\n"
     ]
    }
   ],
   "source": [
    "agent_engine =get_or_create_agent_engine(MEMORY_ENGINE_DISPLAY_NAME)\n",
    "AGENT_ENGINE_NAME = agent_engine.resource_name\n",
    "print(AGENT_ENGINE_NAME)"
   ]
  },
  {
   "cell_type": "code",
   "execution_count": 5,
   "id": "5e9f3384-371c-4076-88f6-d5563a7b32f5",
   "metadata": {
    "tags": []
   },
   "outputs": [],
   "source": [
    "from vertexai import Client  # przygotuj klienta wcześniej\n",
    "client = Client(project=\"dark-data-discovery\", location=\"us-central1\")\n",
    "from persist_missions_memory import persist_missions_to_vertex_memory"
   ]
  },
  {
   "cell_type": "code",
   "execution_count": null,
   "id": "e53ea2f6-5cbf-41fc-a84c-0516e3abfad7",
   "metadata": {
    "tags": []
   },
   "outputs": [],
   "source": [
    "from persist_missions_memory_semantic import persist_missions_to_vertex_memory_semantic\n",
    "\n",
    "persist_missions_to_vertex_memory_semantic(\n",
    "    json_path=\"memory/learned_strategies.json\",\n",
    "    engine_name=AGENT_ENGINE_NAME,\n",
    "    client_vertex=client,                # vertexai.Client\n",
    "    gcs_bucket=\"twoj-bucket-na-pamiec\",  # <- TU podaj swój bucket\n",
    "    gcs_prefix=\"agent-memory\"            # opcjonalnie\n",
    ")"
   ]
  },
  {
   "cell_type": "code",
   "execution_count": 2,
   "id": "6290d7c9-fd81-4f38-9e8d-f56a04ff0126",
   "metadata": {
    "tags": []
   },
   "outputs": [],
   "source": [
    "from persist_missions_memory_semantic_incremental import persist_missions_to_vertex_memory_semantic_incremental"
   ]
  },
  {
   "cell_type": "code",
   "execution_count": null,
   "id": "734f7bcc-e9ba-417c-a7db-b0262652cd2d",
   "metadata": {},
   "outputs": [],
   "source": [
    "\n",
    "\n",
    "stats = persist_missions_to_vertex_memory_semantic_incremental(\n",
    "    json_path=\"memory/learned_strategies.json\",\n",
    "    engine_name=AGENT_ENGINE_NAME,\n",
    "    client_vertex=client,\n",
    "    gcs_bucket=\"twoj-bucket\",\n",
    ")"
   ]
  }
 ],
 "metadata": {
  "environment": {
   "kernel": "agents_with_memory_p11",
   "name": "workbench-notebooks.m129",
   "type": "gcloud",
   "uri": "us-docker.pkg.dev/deeplearning-platform-release/gcr.io/workbench-notebooks:m129"
  },
  "kernelspec": {
   "display_name": "Agents with memory (Python 3.11)",
   "language": "python",
   "name": "agents_with_memory_p11"
  },
  "language_info": {
   "codemirror_mode": {
    "name": "ipython",
    "version": 3
   },
   "file_extension": ".py",
   "mimetype": "text/x-python",
   "name": "python",
   "nbconvert_exporter": "python",
   "pygments_lexer": "ipython3",
   "version": "3.11.13"
  }
 },
 "nbformat": 4,
 "nbformat_minor": 5
}
