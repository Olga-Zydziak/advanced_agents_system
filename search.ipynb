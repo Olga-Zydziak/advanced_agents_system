{
 "cells": [
  {
   "cell_type": "code",
   "execution_count": 4,
   "id": "bba77220-9530-444e-96af-09f0f82d6e96",
   "metadata": {
    "tags": []
   },
   "outputs": [
    {
     "name": "stdout",
     "output_type": "stream",
     "text": [
      "✅ Klient Vertex AI zainicjalizowany pomyślnie.\n",
      "\n",
      "--- 🚀 Odpytuję pamięć z zapytaniem: 'causal analysis' | Zakres: {'source': 'learned_strategies_json'} ---\n",
      "✅ Znaleziono i poprawnie przetworzono 0 pasujących wspomnień.\n",
      "\n",
      "--- 🚀 Odpytuję pamięć z zapytaniem: 'odporność na błędy' | Zakres: {'source': 'learned_strategies_json', 'view': 'overview'} ---\n",
      "✅ Znaleziono i poprawnie przetworzono 0 pasujących wspomnień.\n",
      "\n",
      "--- 🚀 Odpytuję pamięć z zapytaniem: 'dowolne zapytanie' | Zakres: {'source': 'learned_strategies_json', 'mission_id': 'mission_20250825_132101_a5cf18ab'} ---\n",
      "✅ Znaleziono i poprawnie przetworzono 0 pasujących wspomnień.\n"
     ]
    }
   ],
   "source": [
    "import os\n",
    "import json\n",
    "import vertexai\n",
    "from vertexai import agent_engines\n",
    "from read_mission_memory import *\n",
    "\n",
    "PROJECT_ID = \"dark-data-discovery\"  # Wpisz ID swojego projektu\n",
    "LOCATION = \"us-central1\"                    # Wpisz region, np. \"us-central1\"\n",
    "\n",
    "\n",
    "ENGINE_NAME = \"projects/815755318672/locations/us-central1/reasoningEngines/6370486808450433024\" \n",
    "\n",
    "\n",
    "\n",
    "from vertexai import Client  # przygotuj klienta wcześniej\n",
    "client = Client(project=\"dark-data-discovery\", location=\"us-central1\")\n",
    "\n",
    "try:\n",
    "    client = vertexai.Client(project=PROJECT_ID, location=LOCATION)\n",
    "    print(\"✅ Klient Vertex AI zainicjalizowany pomyślnie.\")\n",
    "except Exception as e:\n",
    "    print(f\"❌ BŁĄD KRYTYCZNY: Nie udało się zainicjalizować klienta Vertex AI. Błąd: {e}\")\n",
    "    exit()\n",
    "\n",
    "# Przykład 1: Zapytanie ogólne (korzysta z domyślnego, poprawnego scope)\n",
    "general_results = query_mission_memory(\n",
    "    client=client,\n",
    "    engine_name=ENGINE_NAME,\n",
    "    query_text=\"causal analysis\"\n",
    ")\n",
    "if general_results:\n",
    "    print(\"\\n--- Wyniki zapytania ogólnego ---\")\n",
    "    print(json.dumps(general_results, indent=2, ensure_ascii=False))\n",
    "\n",
    "# Przykład 2: Zapytanie o widok (TERAZ Z KOMPLETNYM SCOPE)\n",
    "overview_scope = {\n",
    "    \"source\": \"learned_strategies_json\", # <-- BRAKUJĄCY KLUCZ\n",
    "    \"view\": \"overview\"\n",
    "}\n",
    "overview_results = query_mission_memory(\n",
    "    client=client,\n",
    "    engine_name=ENGINE_NAME,\n",
    "    query_text=\"odporność na błędy\",\n",
    "    scope=overview_scope\n",
    ")\n",
    "if overview_results:\n",
    "    print(\"\\n--- Wyniki zapytania o 'overview' ---\")\n",
    "    print(json.dumps(overview_results, indent=2, ensure_ascii=False))\n",
    "\n",
    "# Przykład 3: Zapytanie o misję (TERAZ Z KOMPLETNYM SCOPE)\n",
    "mission_id_to_find = \"mission_20250825_132101_a5cf18ab\"\n",
    "mission_scope = {\n",
    "    \"source\": \"learned_strategies_json\", # <-- BRAKUJĄCY KLUCZ\n",
    "    \"mission_id\": mission_id_to_find\n",
    "}\n",
    "mission_results = query_mission_memory(\n",
    "    client=client,\n",
    "    engine_name=ENGINE_NAME,\n",
    "    query_text=\"dowolne zapytanie\",\n",
    "    scope=mission_scope\n",
    ")\n",
    "if mission_results:\n",
    "    print(f\"\\n--- Wszystkie wspomnienia dla misji: {mission_id_to_find} ---\")\n",
    "    print(json.dumps(mission_results, indent=2, ensure_ascii=False))\n",
    "\n",
    "\n"
   ]
  },
  {
   "cell_type": "code",
   "execution_count": null,
   "id": "afb34740-2113-4769-a735-b099fd52de76",
   "metadata": {},
   "outputs": [],
   "source": []
  }
 ],
 "metadata": {
  "environment": {
   "kernel": "agents_with_memory_p11",
   "name": "workbench-notebooks.m129",
   "type": "gcloud",
   "uri": "us-docker.pkg.dev/deeplearning-platform-release/gcr.io/workbench-notebooks:m129"
  },
  "kernelspec": {
   "display_name": "Agents with memory (Python 3.11)",
   "language": "python",
   "name": "agents_with_memory_p11"
  },
  "language_info": {
   "codemirror_mode": {
    "name": "ipython",
    "version": 3
   },
   "file_extension": ".py",
   "mimetype": "text/x-python",
   "name": "python",
   "nbconvert_exporter": "python",
   "pygments_lexer": "ipython3",
   "version": "3.11.13"
  }
 },
 "nbformat": 4,
 "nbformat_minor": 5
}
